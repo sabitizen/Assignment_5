{
 "cells": [
  {
   "cell_type": "markdown",
   "id": "1eb68815-5f8a-41bf-bb8d-1dfcf39ca81a",
   "metadata": {},
   "source": [
    "How Websocket Works"
   ]
  },
  {
   "cell_type": "markdown",
   "id": "d181f9d4-05e5-4089-9a68-b72279176a55",
   "metadata": {},
   "source": [
    "\n",
    "The client (usually a browser) sends an initiates Handshake HTTP request to upgrade the connection to WebSocket.If the Server Responds with Upgrade,\n",
    "it will Establish the connection with websocket.Now a persistent, bidirectional WebSocket connection is open. Both the client and the server can now send messages\n",
    "independently and continuously."
   ]
  },
  {
   "cell_type": "markdown",
   "id": "5ed11184-5578-43bd-acb1-f3b2a1bede66",
   "metadata": {},
   "source": [
    "How CDP workes"
   ]
  },
  {
   "cell_type": "markdown",
   "id": "18297bdf-1166-4a7b-8d95-732ee2c0af21",
   "metadata": {},
   "source": [
    "Chrome exposes a debugging server When you launch Chrome with the flag and Chrome starts an HTTP + WebSocket server.\n",
    "Your client connects via WebSocket.This WebSocket is the communication channel between your code and Chrome.\n",
    "Every instruction is a JSON object.Chrome pushes events in real time.CDP is split into domains, each covering a specific browser\n",
    "You manually send JSON over WebSocket."
   ]
  },
  {
   "cell_type": "markdown",
   "id": "06bf5b81-c507-4962-965b-1f36cb3ddb03",
   "metadata": {},
   "source": [
    "Web Socket vs CDP"
   ]
  },
  {
   "cell_type": "markdown",
   "id": "d3cdd592-08dd-4303-87de-5f62e27943bc",
   "metadata": {},
   "source": [
    " WebSocket\n",
    "\n",
    "1. A general-purpose, full-duplex communication protocol over TCP.\n",
    "2. Enables real-time bidirectional communication between a client (browser/app) and a server.\n",
    "3. Chat apps, online games, live notifications, stock tickers, IoT data streaming.\n",
    "\n",
    "\n",
    " CDP (Chrome DevTools Protocol)\n",
    "\n",
    "1. A specialized protocol built by Chrome, used for debugging, inspecting, and automating Chromium browsers.\n",
    "2. Allows developers or tools to control Chrome.\n",
    "3. CDP uses WebSocket under the hood to send/receive JSON messages between your client and Chrome.\n"
   ]
  },
  {
   "cell_type": "markdown",
   "id": "4a80dfd4-3613-4130-8670-01ac02c913ef",
   "metadata": {},
   "source": [
    "4. How Webdribe workes internally via CDP and Websocket"
   ]
  },
  {
   "cell_type": "markdown",
   "id": "5a10a45b-0419-4ca6-bcd9-393565bc7bec",
   "metadata": {},
   "source": [
    "Modern browsers expose the Chrome DevTools Protocol (CDP).\n",
    "Selenium 4 added support for CDP so it can directly communicate with the browser for advanced features.Such as intercepting network requests,\n",
    "accessing console logs, capturing performance metrics.CDP runs over WebSocket.When Chrome is launched with --remote-debugging-port,\n",
    "it exposes a WebSocket endpoint.WebDriver (via Chromedriver) opens a WebSocket connection to this endpoint."
   ]
  },
  {
   "cell_type": "code",
   "execution_count": null,
   "id": "34453ca7-ecca-4cee-8af2-a5f8acd5e963",
   "metadata": {},
   "outputs": [],
   "source": []
  }
 ],
 "metadata": {
  "kernelspec": {
   "display_name": "Python 3 (ipykernel)",
   "language": "python",
   "name": "python3"
  },
  "language_info": {
   "codemirror_mode": {
    "name": "ipython",
    "version": 3
   },
   "file_extension": ".py",
   "mimetype": "text/x-python",
   "name": "python",
   "nbconvert_exporter": "python",
   "pygments_lexer": "ipython3",
   "version": "3.12.7"
  }
 },
 "nbformat": 4,
 "nbformat_minor": 5
}
